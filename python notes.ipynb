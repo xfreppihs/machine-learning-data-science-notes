{
 "cells": [
  {
   "cell_type": "code",
   "execution_count": 24,
   "metadata": {},
   "outputs": [
    {
     "data": {
      "application/javascript": [
       "IPython.notebook.set_autosave_interval(0)"
      ]
     },
     "metadata": {},
     "output_type": "display_data"
    },
    {
     "name": "stdout",
     "output_type": "stream",
     "text": [
      "Autosave disabled\n"
     ]
    }
   ],
   "source": [
    "%autosave 0"
   ]
  },
  {
   "cell_type": "markdown",
   "metadata": {},
   "source": [
    "## string\n",
    "capitalize()\tConverts the first character to upper case\\\n",
    "count()\tReturns the number of times a specified value occurs in a string\\\n",
    "endswith()\tReturns true if the string ends with the specified value\\\n",
    "find()\tSearches the string for a specified value and returns the position of where it was found, if not found, returns -1\\\n",
    "format()\tFormats specified values in a string\\\n",
    "index()\tSearches the string for a specified value and returns the position of where it was found, if not found, raises ValueError\\\n",
    "isalnum()\tReturns True if all characters in the string are alphanumeric\\\n",
    "isalpha()\tReturns True if all characters in the string are in the alphabet\\\n",
    "isdecimal()\tReturns True if all characters in the string are decimals\\\n",
    "isdigit()\tReturns True if all characters in the string are digits\\\n",
    "islower()\tReturns True if all characters in the string are lower case\\\n",
    "isnumeric()\tReturns True if all characters in the string are numeric\\\n",
    "isspace()\tReturns True if all characters in the string are whitespaces\\\n",
    "istitle()\tReturns True if the string follows the rules of a title\\\n",
    "isupper()\tReturns True if all characters in the string are upper case\\\n",
    "join()\tJoins the elements of an iterable to the end of the string\\\n",
    "ljust()\tReturns a left justified version of the string\\\n",
    "lower()\tConverts a string into lower case\\\n",
    "lstrip()\tReturns a left trim version of the string\\\n",
    "replace()\tReturns a string where a specified value is replaced with a specified value\\\n",
    "rfind()\tSearches the string for a specified value and returns the last position of where it was found\\\n",
    "rindex()\tSearches the string for a specified value and returns the last position of where it was found\\\n",
    "rjust()\tReturns a right justified version of the string\\\n",
    "rsplit()\tSplits the string at the specified separator, and returns a list\\\n",
    "rstrip()\tReturns a right trim version of the string\\\n",
    "split()\tSplits the string at the specified separator, and returns a list\\\n",
    "startswith()\tReturns true if the string starts with the specified value\\\n",
    "strip()\tReturns a trimmed version of the string\\\n",
    "swapcase()\tSwaps cases, lower case becomes upper case and vice versa\\\n",
    "title()\tConverts the first character of each word to upper case\\\n",
    "upper()\tConverts a string into upper case\\\n",
    "zfill()\tFills the string with a specified number of 0 values at the beginning\\"
   ]
  },
  {
   "cell_type": "markdown",
   "metadata": {},
   "source": [
    "### format"
   ]
  },
  {
   "cell_type": "code",
   "execution_count": 25,
   "metadata": {
    "scrolled": true
   },
   "outputs": [
    {
     "data": {
      "text/plain": [
       "'First letter: A. Last letter: Z.'"
      ]
     },
     "execution_count": 25,
     "metadata": {},
     "output_type": "execute_result"
    }
   ],
   "source": [
    "\"\"\"First letter: {0}. Last letter: {1}.\"\"\".format('A', 'Z')"
   ]
  },
  {
   "cell_type": "code",
   "execution_count": 26,
   "metadata": {},
   "outputs": [
    {
     "data": {
      "text/plain": [
       "'First letter: A. Last letter: Z.'"
      ]
     },
     "execution_count": 26,
     "metadata": {},
     "output_type": "execute_result"
    }
   ],
   "source": [
    "\"\"\"First letter: {first}. Last letter: {last}.\"\"\".format(last='Z', first='A')"
   ]
  },
  {
   "cell_type": "code",
   "execution_count": 27,
   "metadata": {},
   "outputs": [
    {
     "data": {
      "text/plain": [
       "'pi = 3.142'"
      ]
     },
     "execution_count": 27,
     "metadata": {},
     "output_type": "execute_result"
    }
   ],
   "source": [
    "pi = 3.14159\n",
    "\"pi = {0:.3f}\".format(pi)"
   ]
  },
  {
   "cell_type": "markdown",
   "metadata": {},
   "source": [
    "### concatenate strings"
   ]
  },
  {
   "cell_type": "code",
   "execution_count": 28,
   "metadata": {
    "scrolled": true
   },
   "outputs": [
    {
     "data": {
      "text/plain": [
       "'hello world'"
      ]
     },
     "execution_count": 28,
     "metadata": {},
     "output_type": "execute_result"
    }
   ],
   "source": [
    "str1 = 'hello'\n",
    "str2 = 'world'\n",
    "str1+\" \"+str2"
   ]
  },
  {
   "cell_type": "code",
   "execution_count": 29,
   "metadata": {},
   "outputs": [
    {
     "data": {
      "text/plain": [
       "'hello world'"
      ]
     },
     "execution_count": 29,
     "metadata": {},
     "output_type": "execute_result"
    }
   ],
   "source": [
    "str1 = 'hello'\n",
    "str2 = 'world'\n",
    "' '.join([str1,str2]) "
   ]
  },
  {
   "cell_type": "code",
   "execution_count": 30,
   "metadata": {
    "scrolled": true
   },
   "outputs": [
    {
     "data": {
      "text/plain": [
       "'hello world'"
      ]
     },
     "execution_count": 30,
     "metadata": {},
     "output_type": "execute_result"
    }
   ],
   "source": [
    "\"{} {}\".format(str1,str2)"
   ]
  },
  {
   "cell_type": "code",
   "execution_count": 31,
   "metadata": {},
   "outputs": [
    {
     "data": {
      "text/plain": [
       "'hello world'"
      ]
     },
     "execution_count": 31,
     "metadata": {},
     "output_type": "execute_result"
    }
   ],
   "source": [
    "f\"{str1} {str2}\""
   ]
  },
  {
   "cell_type": "code",
   "execution_count": 32,
   "metadata": {
    "scrolled": true
   },
   "outputs": [
    {
     "name": "stdout",
     "output_type": "stream",
     "text": [
      "hello world\n"
     ]
    }
   ],
   "source": [
    "print(str1,str2) # concatenate with a single space, change with sep="
   ]
  },
  {
   "cell_type": "markdown",
   "metadata": {},
   "source": [
    "### regex \n",
    "escape . \\ + * ? [ ^ ] $ ( ) { } | -\n",
    "\n",
    "abc…\t   Letters\\\n",
    "123…\t   Digits\\\n",
    "\\d\t       Any Digit\\\n",
    "\\D\t       Any Non-digit character\\\n",
    ".\t       Any Character\\\n",
    "\\.\t       Period\\\n",
    "[abc]\t   Only a, b, or c\\\n",
    "[^abc]\t   Not a, b, nor c\\\n",
    "[a-z]\t   Characters a to z\\\n",
    "[0-9]\t   Numbers 0 to 9\\\n",
    "\\w\t       Any Alphanumeric character\\\n",
    "\\W\t       Any Non-alphanumeric character\\\n",
    "{m}\t       m Repetitions\\\n",
    "{m,n}\t   m to n Repetitions\\\n",
    "\\*\t       Zero or more repetitions\\\n",
    "\\+\t       One or more repetitions\\\n",
    "?\t       Optional character\\\n",
    "\\s\t       Any Whitespace\\\n",
    "\\S\t       Any Non-whitespace character\\\n",
    "^…$\t       Starts and ends\\\n",
    "(…)\t       Capture Group\\\n",
    "(a(bc))\t   Capture Sub-group\\\n",
    "(.*)\t   Capture all\\\n",
    "(abc|def)  Matches abc or def\\\n",
    "\n",
    "pattern_matcher = re.compile(pattern)\\\n",
    "match = pattern_matcher.search(string)\\\n",
    "match.group()\\\n",
    "match.start()\\\n",
    "match.end()\\\n",
    "match.span()\\\n",
    "\n",
    "re.match() - Determine if the regular expression (RE) matches at the beginning of the string.\\\n",
    "re.search() - Scan through a string, looking for any location where this RE matches.\\\n",
    "re.findall() - Find all substrings where the RE matches, and returns them as a list.\\\n",
    "re.finditer() - Find all substrings where the RE matches, and returns them as an iterator."
   ]
  },
  {
   "cell_type": "code",
   "execution_count": 33,
   "metadata": {},
   "outputs": [
    {
     "name": "stdout",
     "output_type": "stream",
     "text": [
      "<re.Match object; span=(0, 3), match='abc'>\n",
      "abc\n",
      "('a',)\n",
      "['a', 'b']\n"
     ]
    }
   ],
   "source": [
    "import re\n",
    "print(re.search('(ab)c','abcabcabd')) # a match object, only finds the first\n",
    "print(re.search('(ab)c','abcabcabd').group()) # returns the first match, doesn't extract the pattern group\n",
    "print(re.search('(a|b)c','accabcabd').groups()) # finds the first match and extracts the pattern group in a tuple\n",
    "print(re.findall('(a|b)c','accabcabd')) # returns the list and extracts the pattern groups"
   ]
  },
  {
   "cell_type": "code",
   "execution_count": 34,
   "metadata": {
    "scrolled": true
   },
   "outputs": [
    {
     "data": {
      "text/plain": [
       "[\"i'm\",\n",
       " 'sorry',\n",
       " 'sir',\n",
       " 'but',\n",
       " 'this',\n",
       " 'is',\n",
       " 'a',\n",
       " 'gluten',\n",
       " 'free',\n",
       " 'restaurant',\n",
       " 'we',\n",
       " \"don't\",\n",
       " 'serve',\n",
       " 'bread']"
      ]
     },
     "execution_count": 34,
     "metadata": {},
     "output_type": "execute_result"
    }
   ],
   "source": [
    "# find words in a sentence. a word can include one apostrophe if it is followed by any character\n",
    "pattern = r\"[a-z]+(?:'[a-z]+)?\"  # ?: allows to quantify the stuff inbetween() without capturing it\n",
    "re.findall(pattern,\"I'm sorry, sir, but this is a 'gluten-free' restaurant. We don't serve bread.\".lower())"
   ]
  },
  {
   "cell_type": "code",
   "execution_count": 35,
   "metadata": {},
   "outputs": [
    {
     "name": "stdout",
     "output_type": "stream",
     "text": [
      "['AiiZuuuuAoooZ']\n",
      "['AiiZ', 'AoooZ']\n"
     ]
    }
   ],
   "source": [
    "pattern1 = r'A.*Z' # * is greedy, matches as long as possible\n",
    "pattern2 = r'A.*?Z' # ? turns off greedy match\n",
    "print(re.findall(pattern1,'eeeAiiZuuuuAoooZeeee'))\n",
    "print(re.findall(pattern2,'eeeAiiZuuuuAoooZeeee'))"
   ]
  },
  {
   "cell_type": "code",
   "execution_count": 36,
   "metadata": {},
   "outputs": [
    {
     "name": "stdout",
     "output_type": "stream",
     "text": [
      "None\n",
      "None\n",
      "<re.Match object; span=(22, 30), match='\\\\section'>\n",
      "None\n",
      "<re.Match object; span=(22, 30), match='\\\\section'>\n",
      "None\n"
     ]
    }
   ],
   "source": [
    "# backslash plague\n",
    "input_with_slash_section = \"This string contains `\\section`, which we would like to match.\"\n",
    "\n",
    "print(re.search(\"\\section\", input_with_slash_section))\n",
    "print(re.search(\"\\\\section\", input_with_slash_section))\n",
    "print(re.search(\"\\\\\\\\section\", input_with_slash_section))\n",
    "\n",
    "# with raw string, although the interpreter won't process the backslash, the regular expression processor will do so\n",
    "print(re.search(r\"\\section\", input_with_slash_section))\n",
    "print(re.search(r\"\\\\section\", input_with_slash_section))\n",
    "print(re.search(r\"\\\\\\\\section\", input_with_slash_section))"
   ]
  },
  {
   "cell_type": "markdown",
   "metadata": {
    "tags": []
   },
   "source": [
    "## list\n",
    "sort(): Sorts the list in ascending order.\n",
    "\n",
    "append(): Adds one element to a list.\n",
    "\n",
    "extend(): Adds multiple elements to a list.\n",
    "\n",
    "index(): Returns the first appearance of a particular value.\n",
    "\n",
    "type(list): It returns the class type of an object.\n",
    "\n",
    "max(list): It returns an item from the list with a max value.\n",
    "\n",
    "min(list): It returns an item from the list with a min value.\n",
    "\n",
    "len(list): It gives the overall length of the list.\n",
    "\n",
    "sum(list): Calculates sum of all the elements of the list.\n",
    "\n",
    "clear(): Removes all the elements from the list.\n",
    "\n",
    "insert(): Adds a component at the required position.\n",
    "\n",
    "count(): Returns the number of elements with the required value.\n",
    "\n",
    "pop(): Removes the element at the required position.\n",
    "\n",
    "remove(): Removes the primary item with the desired value.\n",
    "\n",
    "reverse(): Reverses the order of the list.\n",
    "\n",
    "copy(): Returns a duplicate of the list."
   ]
  },
  {
   "cell_type": "markdown",
   "metadata": {},
   "source": [
    "### list.sort() vs sorted()"
   ]
  },
  {
   "cell_type": "code",
   "execution_count": 37,
   "metadata": {
    "scrolled": true
   },
   "outputs": [
    {
     "name": "stdout",
     "output_type": "stream",
     "text": [
      "[1, 2, 5, 6] None\n",
      "[1, 2, 6, 5] [1, 2, 5, 6]\n"
     ]
    }
   ],
   "source": [
    "lst1 = [1,2,6,5]\n",
    "lst2 = lst1.sort() # modify lst1 in place, lst2 will be None\n",
    "print(lst1,lst2)\n",
    "\n",
    "lst1 = [1,2,6,5]\n",
    "lst2 = sorted(lst1) # lst1 doesn't change\n",
    "print(lst1, lst2)"
   ]
  },
  {
   "cell_type": "markdown",
   "metadata": {},
   "source": [
    "- 下面是自定义排序\\\n",
    "a = ['x', 'z', 'y']\\\n",
    "dic = {'x': 0, 'y': 1, 'z': 2}\n",
    "\n",
    "\n",
    "- 我想让a中的元素按照他们在dic中对应的value排序\\\n",
    "a.sort(key = lambda x: dic[x])\\\n",
    "b = sorted(a, key = lambda x: dic[x])\n",
    "\n",
    "\n",
    "- Python排序默认从小到大，如果想从大到小，可以加负号，比如\\\n",
    "a.sort(key = lambda x: -dic[x])\\\n",
    "- 或者\\\n",
    "a.sort(key = lambda x: dic[x], reverse = True)"
   ]
  },
  {
   "cell_type": "markdown",
   "metadata": {},
   "source": [
    "### concatenate lists"
   ]
  },
  {
   "cell_type": "code",
   "execution_count": 38,
   "metadata": {},
   "outputs": [
    {
     "data": {
      "text/plain": [
       "[11, 13, 15, 17, 19, 23, 25, 27, 29, 31]"
      ]
     },
     "execution_count": 38,
     "metadata": {},
     "output_type": "execute_result"
    }
   ],
   "source": [
    "mylist1 = [11, 13, 15, 17, 19]\n",
    "mylist2 = [23, 25, 27, 29, 31]\n",
    "mylist3 = mylist1+mylist2\n",
    "mylist3"
   ]
  },
  {
   "cell_type": "code",
   "execution_count": 39,
   "metadata": {},
   "outputs": [
    {
     "name": "stdout",
     "output_type": "stream",
     "text": [
      "[11, 13, 15, 17, 19, 23, 25, 27, 29, 31]\n",
      "None\n"
     ]
    }
   ],
   "source": [
    "mylist1 = [11, 13, 15, 17, 19]\n",
    "mylist2 = [23, 25, 27, 29, 31]\n",
    "mylist3 = mylist1.extend(mylist2) # directly modify mylist1, mylist3 will be None\n",
    "print(mylist1)\n",
    "print(mylist3)"
   ]
  },
  {
   "cell_type": "code",
   "execution_count": 40,
   "metadata": {},
   "outputs": [
    {
     "data": {
      "text/plain": [
       "[11, 13, 15, 17, 19, 23, 25, 27, 29, 31]"
      ]
     },
     "execution_count": 40,
     "metadata": {},
     "output_type": "execute_result"
    }
   ],
   "source": [
    "mylist1 = [11, 13, 15, 17, 19]\n",
    "mylist2 = [23, 25, 27, 29, 31]\n",
    "# using * operator to concatenate lists\n",
    "mylist3 = [*mylist1, *mylist2]\n",
    "mylist3"
   ]
  },
  {
   "cell_type": "code",
   "execution_count": 41,
   "metadata": {
    "scrolled": true
   },
   "outputs": [
    {
     "data": {
      "text/plain": [
       "[11, 13, 15, 17, 19, 23, 25, 27, 29, 31]"
      ]
     },
     "execution_count": 41,
     "metadata": {},
     "output_type": "execute_result"
    }
   ],
   "source": [
    "mylist1 = [11, 13, 15, 17, 19]\n",
    "mylist2 = [23, 25, 27, 29, 31]\n",
    "# using list comprehension to concatenate lists\n",
    "mylist3 = [b for a in [mylist1, mylist2] for b in a]\n",
    "mylist3"
   ]
  },
  {
   "cell_type": "markdown",
   "metadata": {},
   "source": [
    "### list() vs []\n",
    "list() is a function that will iterate the values of s1&s2 and return a list with those values. [] is a list literal and does not parse the iterable set passed to it."
   ]
  },
  {
   "cell_type": "code",
   "execution_count": 42,
   "metadata": {},
   "outputs": [
    {
     "name": "stdout",
     "output_type": "stream",
     "text": [
      "['b']\n",
      "[{'b'}]\n"
     ]
    }
   ],
   "source": [
    "set1 = {'a','b'}\n",
    "set2 = {'b','c'}\n",
    "\n",
    "lst1 = list(set1&set2)\n",
    "lst2 = [set1&set2]\n",
    "\n",
    "print(lst1)\n",
    "print(lst2)"
   ]
  },
  {
   "cell_type": "markdown",
   "metadata": {},
   "source": [
    "### make an empty list of size n"
   ]
  },
  {
   "cell_type": "code",
   "execution_count": 43,
   "metadata": {},
   "outputs": [
    {
     "data": {
      "text/plain": [
       "[None, None, None, None, None, None, None, None]"
      ]
     },
     "execution_count": 43,
     "metadata": {},
     "output_type": "execute_result"
    }
   ],
   "source": [
    "lst = [None]*8\n",
    "lst"
   ]
  },
  {
   "cell_type": "markdown",
   "metadata": {},
   "source": [
    "### list comprehension"
   ]
  },
  {
   "cell_type": "code",
   "execution_count": 44,
   "metadata": {},
   "outputs": [
    {
     "data": {
      "text/plain": [
       "[1, -2, -4, 5, 7, -8, -10, 11, 13, -14, -16, 17, 19]"
      ]
     },
     "execution_count": 44,
     "metadata": {},
     "output_type": "execute_result"
    }
   ],
   "source": [
    "[val if val % 2 else -val\n",
    " for val in range(20) if val % 3]"
   ]
  },
  {
   "cell_type": "markdown",
   "metadata": {},
   "source": [
    "## Set\n",
    "add()\t                        Adds an element to the set\n",
    "\n",
    "clear()\t                        Removes all the elements from the set\n",
    "\n",
    "copy()\t                        Returns a copy of the set\n",
    "\n",
    "difference()\t                Returns a set containing the difference between two or more sets\n",
    "\n",
    "difference_update()\t            Removes the items in this set that are also included in another, specified set\n",
    "\n",
    "discard()\t                    Remove the specified item\n",
    "\n",
    "intersection()\t                Returns a set, that is the intersection of two or more sets\n",
    " \n",
    "intersection_update()\t        Removes the items in this set that are not present in other, specified set(s)\n",
    "\n",
    "isdisjoint()\t                Returns whether two sets have a intersection or not\n",
    "\n",
    "issubset()\t                    Returns whether another set contains this set or not\n",
    "\n",
    "issuperset()\t                Returns whether this set contains another set or not\n",
    "\n",
    "pop()\t                        Removes an element from the set\n",
    "\n",
    "remove()\t                    Removes the specified element\n",
    "\n",
    "symmetric_difference()\t        Returns a set with the symmetric differences of two sets\n",
    "\n",
    "symmetric_difference_update()\tInserts the symmetric differences from this set and another\n",
    "\n",
    "union()\t                        Return a set containing the union of sets\n",
    "\n",
    "update()\t                    Update the set with another set, or any other iterable"
   ]
  },
  {
   "cell_type": "markdown",
   "metadata": {},
   "source": [
    "Values are not limited to integers and, like lists, elements may mix types. However, the elements must be immutable. Recall that the primitive built-in types (e.g., int, float, str, bool) are immutable, as is tuple. However, a list is mutable, and therefore cannot be a set element.\n",
    "> There is a subtlety -- although tuple is immutable, you can construct a tuple that contains mutable values, e.g., the triple (1, 2, [3, 4, 5]) where the third element is a list, which is mutable. This tuple would, therefore, be an invalid set element."
   ]
  },
  {
   "cell_type": "code",
   "execution_count": 45,
   "metadata": {},
   "outputs": [
    {
     "name": "stdout",
     "output_type": "stream",
     "text": [
      "{'cat', 1.61803398875, ('a', 'b', 'c')}\n"
     ]
    },
    {
     "data": {
      "text/plain": [
       "{1, 2, 3, 4, 5}"
      ]
     },
     "execution_count": 45,
     "metadata": {},
     "output_type": "execute_result"
    }
   ],
   "source": [
    "E = {'cat', 1.61803398875, ('a', 'b', 'c')}\n",
    "# E.add([1, 2, 3]) # Error!\n",
    "print(E)\n",
    "\n",
    "T1 = (1,2,[3,4,5])\n",
    "# set(T1) # Error!\n",
    "T2 = (1,2,3,4,5)\n",
    "set(T2)"
   ]
  },
  {
   "cell_type": "markdown",
   "metadata": {},
   "source": [
    "set初始化\\\n",
    "a = set() # 空的set\\\n",
    "a = set([1, 2, 2, 3]) # 用一个list初始化这个set，里面重复的元素会被干掉\\\n",
    "a = {1, 2, 3} # 用一个常量set初始化这个set\n",
    "\n",
    "a.add(4) # 向set里面添加值\\\n",
    "a.update({-1, -2, -3}) # 添加多个值\n",
    "\n",
    "set基本操作\\\n",
    "a = set()\\\n",
    "b = set()\\\n",
    "c = a | b # 并集 # union\\\n",
    "c = a & b # 交集 # intersection\\\n",
    "c = a - b # 差集 # difference\\\n",
    "c = a ^ b # (a | b) - (a & b)\\\n",
    "c = a < b # proper subset (use `<=` for subset, `>` or `>=` for superset, or '==' for equality)"
   ]
  },
  {
   "cell_type": "markdown",
   "metadata": {},
   "source": [
    "## dictionary\n",
    "clear()\t        Removes all the elements from the dictionary\n",
    "\n",
    "copy()      \tReturns a copy of the dictionary\n",
    "\n",
    "fromkeys()  \tReturns a dictionary with the specified keys and value\n",
    "\n",
    "get()\t        Returns the value of the specified key\n",
    "\n",
    "items()\t        Returns a list containing a tuple for each key value pair\n",
    "\n",
    "keys()\t        Returns a list containing the dictionary's keys\n",
    "\n",
    "pop()\t        Removes the element with the specified key\n",
    "\n",
    "popitem()\t    Removes the last inserted key-value pair\n",
    "\n",
    "setdefault()\tReturns the value of the specified key. If the key does not exist: insert the key, with the specified value\n",
    "\n",
    "update()\t    Updates the dictionary with the specified key-value pairs\n",
    "\n",
    "values()\t    Returns a list of all the values in the dictionary"
   ]
  },
  {
   "cell_type": "code",
   "execution_count": 46,
   "metadata": {},
   "outputs": [
    {
     "name": "stdout",
     "output_type": "stream",
     "text": [
      "p as\n",
      "o 1\n",
      "j 4\n",
      "as\n",
      "1\n",
      "4\n",
      "p as\n",
      "o 1\n",
      "j 4\n"
     ]
    }
   ],
   "source": [
    "a = {'p': 'as', 'o': 1, 'j': 4}\n",
    "\n",
    "# 遍历key\n",
    "for i in a: # or a.keys()\n",
    "  print(i, a[i])\n",
    "\n",
    "# 遍历value\n",
    "for i in a.values():\n",
    "  print(i)\n",
    "\n",
    "# 同时遍历key和value：\n",
    "for k, v in a.items():\n",
    "  print(k, v)"
   ]
  },
  {
   "cell_type": "markdown",
   "metadata": {},
   "source": [
    "### default dictionary"
   ]
  },
  {
   "cell_type": "code",
   "execution_count": 47,
   "metadata": {},
   "outputs": [],
   "source": [
    "a = {}\n",
    "a['key']='value'"
   ]
  },
  {
   "cell_type": "code",
   "execution_count": 48,
   "metadata": {},
   "outputs": [
    {
     "name": "stdout",
     "output_type": "stream",
     "text": [
      "0\n",
      "[]\n"
     ]
    }
   ],
   "source": [
    "from collections import defaultdict\n",
    "a = defaultdict(int)\n",
    "print(a['key']) # 这里会输出0\n",
    "\n",
    "a = defaultdict(list)\n",
    "print(a['key']) # 这里会输出[]（一个空的list）"
   ]
  },
  {
   "cell_type": "markdown",
   "metadata": {},
   "source": [
    "### dictionary comprehension"
   ]
  },
  {
   "cell_type": "code",
   "execution_count": 49,
   "metadata": {},
   "outputs": [
    {
     "name": "stdout",
     "output_type": "stream",
     "text": [
      "['one', 'two', 'three', 'four', 'five', 'six', 'seven', 'eight', 'nine', 'ten']\n",
      "['un', 'deux', 'trois', 'quatre', 'cinq', 'six', 'sept', 'huit', 'neuf', 'dix']\n",
      "trois\n"
     ]
    }
   ],
   "source": [
    "english = \"one two three four five six seven eight nine ten\".split()\n",
    "print(english)\n",
    "\n",
    "french = \"un deux trois quatre cinq six sept huit neuf dix\".split()\n",
    "print(french)\n",
    "\n",
    "e2f = {k: v for k, v in zip(english, french)} # Dictionary comprehension\n",
    "print(e2f['three'])"
   ]
  },
  {
   "cell_type": "markdown",
   "metadata": {},
   "source": [
    "## Tuples\n",
    "\n",
    "A tuple is a read-only (\"immutable\") fixed-length sequence of values.\n"
   ]
  },
  {
   "cell_type": "code",
   "execution_count": 50,
   "metadata": {},
   "outputs": [
    {
     "data": {
      "text/plain": [
       "False"
      ]
     },
     "execution_count": 50,
     "metadata": {},
     "output_type": "execute_result"
    }
   ],
   "source": [
    "# 可以直接从list来初始化tuple\n",
    "a = tuple([1, 2]) # a = (1, 2)\n",
    "\n",
    "# tuple和list相比，最大的特点就是，一旦定义，不可改变长度以及内容，就像一个常数一样使用\n",
    "\n",
    "# tuple的这个特性可以让我们用来同时比较多个数是否都相等\n",
    "a = (1, 2)\n",
    "b = (1, 2)\n",
    "a == b # True\n",
    "\n",
    "a = (1, 3)\n",
    "a == b # False"
   ]
  },
  {
   "cell_type": "markdown",
   "metadata": {},
   "source": [
    "## iterator and generator"
   ]
  },
  {
   "cell_type": "code",
   "execution_count": 51,
   "metadata": {},
   "outputs": [
    {
     "name": "stdout",
     "output_type": "stream",
     "text": [
      "0 1 4 9 16 25 36 49 64 81 100 121 "
     ]
    }
   ],
   "source": [
    "L = [n ** 2 for n in range(12)] # list\n",
    "for val in L:\n",
    "    print(val, end=' ')"
   ]
  },
  {
   "cell_type": "code",
   "execution_count": 52,
   "metadata": {},
   "outputs": [
    {
     "name": "stdout",
     "output_type": "stream",
     "text": [
      "0 1 4 9 16 25 36 49 64 81 100 121 "
     ]
    }
   ],
   "source": [
    "G = (n ** 2 for n in range(12)) # generator expression. does not actually compute the values until they are needed\n",
    "for val in G:\n",
    "    print(val, end=' ')"
   ]
  },
  {
   "cell_type": "code",
   "execution_count": 53,
   "metadata": {},
   "outputs": [
    {
     "name": "stdout",
     "output_type": "stream",
     "text": [
      "0 1 4 9 16 25 36 49 64 81 100 121 "
     ]
    }
   ],
   "source": [
    "I = iter([n ** 2 for n in range(12)]) # iterator\n",
    "for val in I:\n",
    "    print(val, end=' ')"
   ]
  },
  {
   "cell_type": "code",
   "execution_count": 54,
   "metadata": {},
   "outputs": [
    {
     "name": "stdout",
     "output_type": "stream",
     "text": [
      "0 1 64 121 4 36 100 9 16 49 81 25 "
     ]
    }
   ],
   "source": [
    "S = {n ** 2 for n in range(12)} # set iterator\n",
    "for val in S:\n",
    "    print(val, end=' ')"
   ]
  },
  {
   "cell_type": "markdown",
   "metadata": {},
   "source": [
    "### itertools"
   ]
  },
  {
   "cell_type": "code",
   "execution_count": 55,
   "metadata": {
    "scrolled": true
   },
   "outputs": [
    {
     "name": "stdout",
     "output_type": "stream",
     "text": [
      "('zebra', 'cat', 'emu')\n",
      "('zebra', 'cat', 'dog')\n",
      "('zebra', 'emu', 'dog')\n",
      "('cat', 'emu', 'dog')\n"
     ]
    }
   ],
   "source": [
    "zoo = {'cat', 'dog', 'emu', 'zebra'}  # a set of animals\n",
    "\n",
    "from itertools import combinations    # Try also: `permutations`\n",
    "for x in combinations(zoo, 3):      \n",
    "    print(x)"
   ]
  },
  {
   "cell_type": "markdown",
   "metadata": {},
   "source": [
    "### filter\n",
    "filter: an iterator that only yields values for which a given predicate function evalutes to True."
   ]
  },
  {
   "cell_type": "code",
   "execution_count": 56,
   "metadata": {},
   "outputs": [
    {
     "name": "stdout",
     "output_type": "stream",
     "text": [
      "True False \n",
      "\n",
      "0 2 4 6 8 "
     ]
    }
   ],
   "source": [
    "# find values up to 10 for which x % 2 is zero\n",
    "is_even = lambda x: x % 2 == 0\n",
    "print(is_even(4), is_even(7), \"\\n\")\n",
    "\n",
    "for val in filter(is_even, range(10)):\n",
    "    print(val, end=' ')"
   ]
  },
  {
   "cell_type": "markdown",
   "metadata": {},
   "source": [
    "### map\n",
    "map: an iterator that first applies a given function to each value."
   ]
  },
  {
   "cell_type": "code",
   "execution_count": 57,
   "metadata": {
    "scrolled": true
   },
   "outputs": [
    {
     "name": "stdout",
     "output_type": "stream",
     "text": [
      "0 1 4 9 16 25 36 49 64 81 "
     ]
    }
   ],
   "source": [
    "# find the first 10 square numbers\n",
    "square = lambda x: x ** 2\n",
    "for val in map(square, range(10)):\n",
    "    print(val, end=' ')"
   ]
  },
  {
   "cell_type": "markdown",
   "metadata": {},
   "source": [
    "### enumarate\n",
    "enumerate(x): an iterator that produces the elements of x along with a \"running count\" that starts at 0."
   ]
  },
  {
   "cell_type": "code",
   "execution_count": 58,
   "metadata": {
    "scrolled": true
   },
   "outputs": [
    {
     "name": "stdout",
     "output_type": "stream",
     "text": [
      "<enumerate object at 0x00000250B839F640>\n",
      "(0, 'a') (1, 'l') (2, 's') (3, 'd') (4, 'f') (5, 'k') (6, 'j')\n"
     ]
    }
   ],
   "source": [
    "a = enumerate('alsdfkj')\n",
    "print(a)\n",
    "print(*enumerate('alsdfkj')) # An iterator can be converted into an argument tuple using the *i syntax "
   ]
  },
  {
   "cell_type": "code",
   "execution_count": 59,
   "metadata": {},
   "outputs": [
    {
     "name": "stdout",
     "output_type": "stream",
     "text": [
      "0: a\n",
      "1: l\n",
      "2: s\n",
      "3: d\n",
      "4: f\n",
      "5: k\n",
      "6: j\n"
     ]
    }
   ],
   "source": [
    "for i, s in enumerate('alsdfkj'):\n",
    "    print(f'{i}: {s}')"
   ]
  },
  {
   "cell_type": "markdown",
   "metadata": {},
   "source": [
    "### zip\n",
    "Use zip(a, b, ...) to \"merge\" two or more collections. Conceptually, zip() produces tuples of corresponding elements from each input collection."
   ]
  },
  {
   "cell_type": "code",
   "execution_count": 60,
   "metadata": {},
   "outputs": [
    {
     "name": "stdout",
     "output_type": "stream",
     "text": [
      "<zip object at 0x00000250B83A0C00>\n",
      "(2, 2) (4, 13.4) (6, 'xoxo') (8, 8) ('xoxo', 6) (13.4, 4) (2, 2)\n"
     ]
    },
    {
     "data": {
      "text/plain": [
       "[(2, 2), (4, 13.4), (6, 'xoxo'), (8, 8), ('xoxo', 6), (13.4, 4), (2, 2)]"
      ]
     },
     "execution_count": 60,
     "metadata": {},
     "output_type": "execute_result"
    }
   ],
   "source": [
    "c = [2, 4, 6, 8, 'xoxo', 13.4, 2]\n",
    "b = zip(c,c[::-1])\n",
    "print(b)\n",
    "print(*zip(c,c[::-1])) # An iterator can be converted into an argument tuple using the *i syntax \n",
    "\n",
    "[(f, b) for f, b in zip(c, c[::-1])]"
   ]
  },
  {
   "cell_type": "code",
   "execution_count": 61,
   "metadata": {},
   "outputs": [
    {
     "data": {
      "text/plain": [
       "[(2, 2), (4, 13.4), (6, 'xoxo'), (8, 8), ('xoxo', 6), (13.4, 4), (2, 2)]"
      ]
     },
     "execution_count": 61,
     "metadata": {},
     "output_type": "execute_result"
    }
   ],
   "source": [
    "list(zip(c, c[::-1])) # to view the zip object"
   ]
  },
  {
   "cell_type": "code",
   "execution_count": 62,
   "metadata": {},
   "outputs": [
    {
     "data": {
      "text/plain": [
       "{2: 2, 4: 13.4, 6: 'xoxo', 8: 8, 'xoxo': 6, 13.4: 4}"
      ]
     },
     "execution_count": 62,
     "metadata": {},
     "output_type": "execute_result"
    }
   ],
   "source": [
    "dict(zip(c, c[::-1])) # construct a dictionary directly from zip rather than dictionary comprehension"
   ]
  },
  {
   "cell_type": "code",
   "execution_count": 63,
   "metadata": {},
   "outputs": [
    {
     "name": "stdout",
     "output_type": "stream",
     "text": [
      "(1, 2, 3, 4) ('a', 'b', 'c', 'd')\n"
     ]
    }
   ],
   "source": [
    "a = [1,2,3,4]\n",
    "b = ('a b c d').split()\n",
    "c = zip(a,b)\n",
    "# print(*c)  # if print, c would be unpacked and can't continue the next line\n",
    "d,e = zip(*c) # 'unzip'\n",
    "print(d,e)"
   ]
  },
  {
   "cell_type": "markdown",
   "metadata": {},
   "source": [
    "### while, break, continue"
   ]
  },
  {
   "cell_type": "code",
   "execution_count": 64,
   "metadata": {},
   "outputs": [
    {
     "name": "stdout",
     "output_type": "stream",
     "text": [
      "0 1 2 3 4 5 6 7 8 9 "
     ]
    }
   ],
   "source": [
    "i = 0\n",
    "while i < 10:\n",
    "    print(i, end=' ')\n",
    "    i += 1"
   ]
  },
  {
   "cell_type": "code",
   "execution_count": 65,
   "metadata": {},
   "outputs": [
    {
     "name": "stdout",
     "output_type": "stream",
     "text": [
      "1 3 5 7 9 11 13 15 17 19 "
     ]
    }
   ],
   "source": [
    "# Print odd integers in [0, 20)\n",
    "for n in range(20):\n",
    "    if n % 2 == 0:\n",
    "        continue\n",
    "    print(n, end=' ')"
   ]
  },
  {
   "cell_type": "code",
   "execution_count": 66,
   "metadata": {},
   "outputs": [
    {
     "name": "stdout",
     "output_type": "stream",
     "text": [
      "[1, 1, 2, 3, 5, 8, 13, 21, 34, 55, 89]\n"
     ]
    }
   ],
   "source": [
    "# Print Fibonacci sequence for values <= 100\n",
    "a, b = 0, 1\n",
    "amax = 100\n",
    "L = []\n",
    "\n",
    "while True:\n",
    "    (a, b) = (b, a + b)\n",
    "    if a > amax:\n",
    "        break\n",
    "    L.append(a)\n",
    "\n",
    "print(L)"
   ]
  },
  {
   "cell_type": "markdown",
   "metadata": {},
   "source": [
    "## pandas\n",
    "describe()\\\n",
    "info()\\\n",
    "apply(func,axis=0/1) works on a row / column basis of a DataFrame\\\n",
    "applymap() works element-wise on a DataFrame\\\n",
    "map() works element-wise on a Series\\\n",
    "concat([df1,df2],ignore_index=True)\\\n",
    "merge(df1,df2,on='',how='left/right/inner/outer')\\\n",
    "drop(['col1','col2'],axis=1,inplace=True)\\\n",
    "unique() show unique values\\\n",
    "nunique() count how many unique values\\\n",
    "groupby(['col1'],as_index=False)\\\n",
    "count() does not include NaN values\\\n",
    "size() includes NaN values\\\n",
    "value_counts(normalize=True)\\\n",
    "sort_values(by=['col1'],ascending=False,inplace=True)\\\n",
    "reset_index(drop=True,inplace=True)\\\n",
    "set_index('col1') promotes a column to be the index\\\n",
    "set_axis(['col1','col2'],axis='columns',inplace=True) rename columns\\\n",
    "rename(columns = {'Column 1': 'Column_1'}, index = {'Row 1': 'Row_1'}, inplace=True)\\\n",
    "to_frame()\\\n",
    "isin()\\\n",
    "astype({\"col1\":int})\\\n",
    "fillna(0,inplace=True)\\\n",
    "dropna()\\\n",
    "shape()\\\n",
    "melt() wide to long\\\n",
    "xs()\\\n",
    "query('col1==\"string1\" and col2==val2')\\\n",
    "groupby().filter() groupby then filter, doesn't do any aggregation\\\n",
    "agg({\"col1\":\"count\",\"col2\",\"mean\"})"
   ]
  },
  {
   "cell_type": "markdown",
   "metadata": {},
   "source": [
    "## numpy"
   ]
  },
  {
   "cell_type": "code",
   "execution_count": 67,
   "metadata": {
    "scrolled": true
   },
   "outputs": [
    {
     "data": {
      "text/plain": [
       "array([1, 3, 5, 7])"
      ]
     },
     "execution_count": 67,
     "metadata": {},
     "output_type": "execute_result"
    }
   ],
   "source": [
    "import numpy as np\n",
    "np.arange(1, 9, 2) # start, end (exclusive), step"
   ]
  },
  {
   "cell_type": "code",
   "execution_count": 68,
   "metadata": {},
   "outputs": [
    {
     "name": "stdout",
     "output_type": "stream",
     "text": [
      "[0.  0.2 0.4 0.6 0.8 1. ]\n",
      "[0.  0.2 0.4 0.6 0.8]\n"
     ]
    }
   ],
   "source": [
    "print(np.linspace(0, 1, 6)) # start, end (inclusive), number of items\n",
    "print(np.linspace(0, 1, 5, endpoint=False))"
   ]
  },
  {
   "cell_type": "code",
   "execution_count": 69,
   "metadata": {},
   "outputs": [
    {
     "data": {
      "text/plain": [
       "array([[1., 1., 1.],\n",
       "       [1., 1., 1.],\n",
       "       [1., 1., 1.]])"
      ]
     },
     "execution_count": 69,
     "metadata": {},
     "output_type": "execute_result"
    }
   ],
   "source": [
    "np.ones((3, 3)) "
   ]
  },
  {
   "cell_type": "code",
   "execution_count": 70,
   "metadata": {},
   "outputs": [
    {
     "data": {
      "text/plain": [
       "array([[0., 0.],\n",
       "       [0., 0.]])"
      ]
     },
     "execution_count": 70,
     "metadata": {},
     "output_type": "execute_result"
    }
   ],
   "source": [
    "np.zeros((2, 2))"
   ]
  },
  {
   "cell_type": "code",
   "execution_count": 71,
   "metadata": {
    "scrolled": true
   },
   "outputs": [
    {
     "data": {
      "text/plain": [
       "array([[1., 0., 0.],\n",
       "       [0., 1., 0.],\n",
       "       [0., 0., 1.]])"
      ]
     },
     "execution_count": 71,
     "metadata": {},
     "output_type": "execute_result"
    }
   ],
   "source": [
    "np.eye(3)"
   ]
  },
  {
   "cell_type": "code",
   "execution_count": 72,
   "metadata": {},
   "outputs": [
    {
     "data": {
      "text/plain": [
       "array([[1, 0, 0],\n",
       "       [0, 2, 0],\n",
       "       [0, 0, 3]])"
      ]
     },
     "execution_count": 72,
     "metadata": {},
     "output_type": "execute_result"
    }
   ],
   "source": [
    "np.diag([1,2,3]) #integer input=>integer output"
   ]
  },
  {
   "cell_type": "code",
   "execution_count": 73,
   "metadata": {
    "scrolled": true
   },
   "outputs": [
    {
     "data": {
      "text/plain": [
       "array([[ True, False, False, False],\n",
       "       [ True, False, False, False],\n",
       "       [ True, False, False, False]])"
      ]
     },
     "execution_count": 73,
     "metadata": {},
     "output_type": "execute_result"
    }
   ],
   "source": [
    "np.empty((3, 4),dtype=bool)"
   ]
  },
  {
   "cell_type": "code",
   "execution_count": 74,
   "metadata": {
    "scrolled": true
   },
   "outputs": [
    {
     "name": "stdout",
     "output_type": "stream",
     "text": [
      "[0.75181902 0.87318659 0.06257803 0.79898857]\n",
      "[-0.59673006  1.21900346  0.46943429 -3.22761136]\n"
     ]
    }
   ],
   "source": [
    "print(np.random.rand(4))       # uniform in [0, 1]\n",
    "print(np.random.randn(4))      # Gaussian"
   ]
  },
  {
   "cell_type": "code",
   "execution_count": 75,
   "metadata": {},
   "outputs": [
    {
     "data": {
      "text/plain": [
       "1"
      ]
     },
     "execution_count": 75,
     "metadata": {},
     "output_type": "execute_result"
    }
   ],
   "source": [
    "x = np.array([1, 3, 2])\n",
    "x.min() \n",
    "# 1\n",
    "x.max()\n",
    "# 3\n",
    "x.argmin()  # index of minimum\n",
    "# 0\n",
    "x.argmax()  # index of maximum\n",
    "# 1"
   ]
  },
  {
   "cell_type": "code",
   "execution_count": 76,
   "metadata": {},
   "outputs": [
    {
     "name": "stdout",
     "output_type": "stream",
     "text": [
      "False\n",
      "True\n"
     ]
    }
   ],
   "source": [
    "print(np.all([True, True, False]))\n",
    "print(np.any([True, True, False]))"
   ]
  },
  {
   "cell_type": "code",
   "execution_count": 77,
   "metadata": {
    "scrolled": true
   },
   "outputs": [
    {
     "name": "stdout",
     "output_type": "stream",
     "text": [
      "[1 2 3 4 5 6]\n",
      "[[1 2 3]\n",
      " [4 5 6]]\n"
     ]
    }
   ],
   "source": [
    "a = np.array([[1, 2, 3], [4, 5, 6]])\n",
    "print(a.ravel())\n",
    "print(a.reshape((2, -1)))    # unspecified (-1) value is inferred"
   ]
  },
  {
   "cell_type": "code",
   "execution_count": 78,
   "metadata": {},
   "outputs": [
    {
     "data": {
      "text/plain": [
       "array([[0.        , 1.        , 2.        , 3.        , 4.        ],\n",
       "       [1.        , 1.41421356, 2.23606798, 3.16227766, 4.12310563],\n",
       "       [2.        , 2.23606798, 2.82842712, 3.60555128, 4.47213595],\n",
       "       [3.        , 3.16227766, 3.60555128, 4.24264069, 5.        ],\n",
       "       [4.        , 4.12310563, 4.47213595, 5.        , 5.65685425]])"
      ]
     },
     "execution_count": 78,
     "metadata": {},
     "output_type": "execute_result"
    }
   ],
   "source": [
    "x, y = np.arange(5), np.arange(5)[:, np.newaxis]\n",
    "distance = np.sqrt(x ** 2 + y ** 2)\n",
    "distance"
   ]
  },
  {
   "cell_type": "code",
   "execution_count": 79,
   "metadata": {},
   "outputs": [
    {
     "data": {
      "text/plain": [
       "array([0, 1, 2, 3, 0, 0, 0, 0])"
      ]
     },
     "execution_count": 79,
     "metadata": {},
     "output_type": "execute_result"
    }
   ],
   "source": [
    "a = np.arange(4)\n",
    "a.resize((8,))\n",
    "a"
   ]
  },
  {
   "cell_type": "code",
   "execution_count": 80,
   "metadata": {},
   "outputs": [
    {
     "data": {
      "text/plain": [
       "array([[0, 1],\n",
       "       [2, 3]])"
      ]
     },
     "execution_count": 80,
     "metadata": {},
     "output_type": "execute_result"
    }
   ],
   "source": [
    "a = np.arange(4)\n",
    "a.reshape((2,-1))"
   ]
  },
  {
   "cell_type": "code",
   "execution_count": 81,
   "metadata": {},
   "outputs": [
    {
     "data": {
      "text/plain": [
       "array([1, 2, 3])"
      ]
     },
     "execution_count": 81,
     "metadata": {},
     "output_type": "execute_result"
    }
   ],
   "source": [
    "a = np.array([1, 2, 3])\n",
    "a.dtype\n",
    "# dtype('int64')\n",
    "a[0] = 1.9     # <-- float is truncated to integer\n",
    "a"
   ]
  },
  {
   "cell_type": "code",
   "execution_count": 82,
   "metadata": {},
   "outputs": [
    {
     "data": {
      "text/plain": [
       "array([1, 1, 1])"
      ]
     },
     "execution_count": 82,
     "metadata": {},
     "output_type": "execute_result"
    }
   ],
   "source": [
    "a = np.array([1.7, 1.2, 1.6])\n",
    "b = a.astype(int)  # <-- truncates to integer\n",
    "b"
   ]
  },
  {
   "cell_type": "code",
   "execution_count": 83,
   "metadata": {},
   "outputs": [
    {
     "data": {
      "text/plain": [
       "array([1., 2., 2., 2., 4., 4.])"
      ]
     },
     "execution_count": 83,
     "metadata": {},
     "output_type": "execute_result"
    }
   ],
   "source": [
    "a = np.array([1.2, 1.5, 1.6, 2.5, 3.5, 4.5])\n",
    "b = np.around(a)\n",
    "b                    # still floating-point"
   ]
  },
  {
   "cell_type": "markdown",
   "metadata": {},
   "source": [
    "## \\* unpack"
   ]
  },
  {
   "cell_type": "code",
   "execution_count": 84,
   "metadata": {},
   "outputs": [
    {
     "data": {
      "text/plain": [
       "['a', 'b', 'c', 'd', 'e']"
      ]
     },
     "execution_count": 84,
     "metadata": {},
     "output_type": "execute_result"
    }
   ],
   "source": [
    "s=[*'abcde']\n",
    "s"
   ]
  },
  {
   "cell_type": "code",
   "execution_count": 85,
   "metadata": {},
   "outputs": [
    {
     "data": {
      "text/plain": [
       "['a', 'b', 'c', 'd', 'e']"
      ]
     },
     "execution_count": 85,
     "metadata": {},
     "output_type": "execute_result"
    }
   ],
   "source": [
    "*s,='abcde'\n",
    "s"
   ]
  },
  {
   "cell_type": "markdown",
   "metadata": {},
   "source": [
    "## Saving memory\n",
    "Running operations can cause new memory to be allocated to host results. For example, if we write Y = X + Y, we dereference the tensor that Y used to point to and instead point Y at the newly allocated memory. We can demonstrate this issue with Python’s id() function, which gives us the exact address of the referenced object in memory. Note that after we run Y = Y + X, id(Y) points to a different location. That’s because Python first evaluates Y + X, allocating new memory for the result and then points Y to this new location in memory."
   ]
  },
  {
   "cell_type": "code",
   "execution_count": 17,
   "metadata": {},
   "outputs": [
    {
     "data": {
      "text/plain": [
       "False"
      ]
     },
     "execution_count": 17,
     "metadata": {},
     "output_type": "execute_result"
    }
   ],
   "source": [
    "Y, X = [1,3], [2,4]\n",
    "before = id(Y)\n",
    "Y = Y + X\n",
    "id(Y) == before"
   ]
  },
  {
   "cell_type": "markdown",
   "metadata": {},
   "source": [
    "This might be undesirable for two reasons. First, we do not want to run around allocating memory unnecessarily all the time. In machine learning, we often have hundreds of megabytes of parameters and update all of them multiple times per second. Whenever possible, we want to perform these updates in place. Second, we might point at the same parameters from multiple variables. If we do not update in place, we must be careful to update all of these references, lest we spring a memory leak or inadvertently refer to stale parameters."
   ]
  },
  {
   "cell_type": "code",
   "execution_count": 19,
   "metadata": {},
   "outputs": [
    {
     "data": {
      "text/plain": [
       "True"
      ]
     },
     "execution_count": 19,
     "metadata": {},
     "output_type": "execute_result"
    }
   ],
   "source": [
    "Y, X = [1,3], [2,4]\n",
    "before = id(Y)\n",
    "Y+=X\n",
    "id(Y) == before"
   ]
  },
  {
   "cell_type": "code",
   "execution_count": 20,
   "metadata": {},
   "outputs": [
    {
     "data": {
      "text/plain": [
       "True"
      ]
     },
     "execution_count": 20,
     "metadata": {},
     "output_type": "execute_result"
    }
   ],
   "source": [
    "Y, X = [1,3], [2,4]\n",
    "before = id(Y)\n",
    "Y[:]=Y+X\n",
    "id(Y) == before"
   ]
  },
  {
   "cell_type": "markdown",
   "metadata": {},
   "source": [
    "## shallow vs deep copy\n",
    "A shallow copy creates a new object which stores the reference of the original elements.<br>\n",
    "So, a shallow copy doesn't create a copy of nested objects, instead it just copies the reference of nested objects. This means, a copy process does not recurse or create copies of nested objects itself.<br>\n",
    "A deep copy creates a new object and recursively adds the copies of nested objects present in the original elements."
   ]
  },
  {
   "cell_type": "code",
   "execution_count": 13,
   "metadata": {},
   "outputs": [
    {
     "name": "stdout",
     "output_type": "stream",
     "text": [
      "Old list: [[1, 1, 1], [2, 2, 2], [3, 3, 3], [4, 4, 4]]\n",
      "ID of Old List: 2031854802752\n",
      "New List: [[1, 1, 1], [2, 2, 2], [3, 3, 3]]\n",
      "ID of New List: 2031854802240\n"
     ]
    }
   ],
   "source": [
    "import copy\n",
    "\n",
    "old_list = [[1, 1, 1], [2, 2, 2], [3, 3, 3]]\n",
    "# shallow copy\n",
    "new_list = copy.copy(old_list)\n",
    "old_list.append([4, 4, 4])\n",
    "\n",
    "print(\"Old list:\", old_list)\n",
    "print('ID of Old List:', id(old_list))\n",
    "\n",
    "print('New List:', new_list)\n",
    "print('ID of New List:', id(new_list))"
   ]
  },
  {
   "cell_type": "code",
   "execution_count": 14,
   "metadata": {},
   "outputs": [
    {
     "name": "stdout",
     "output_type": "stream",
     "text": [
      "Old list: [[1, 1, 1], [2, 'AA', 2], [3, 3, 3]]\n",
      "ID of Old List: 2031854802624\n",
      "New List: [[1, 1, 1], [2, 'AA', 2], [3, 3, 3]]\n",
      "ID of New List: 2031854775488\n"
     ]
    }
   ],
   "source": [
    "old_list = [[1, 1, 1], [2, 2, 2], [3, 3, 3]]\n",
    "# shallow copy\n",
    "new_list = copy.copy(old_list)\n",
    "old_list[1][1] = 'AA'\n",
    "\n",
    "print(\"Old list:\", old_list)\n",
    "print('ID of Old List:', id(old_list))\n",
    "\n",
    "print('New List:', new_list)\n",
    "print('ID of New List:', id(new_list))"
   ]
  },
  {
   "cell_type": "code",
   "execution_count": 15,
   "metadata": {},
   "outputs": [
    {
     "name": "stdout",
     "output_type": "stream",
     "text": [
      "Old list: [[1, 1, 1], [2, 2, 2], [3, 3, 3], [4, 4, 4]]\n",
      "ID of Old List: 2031854822784\n",
      "New List: [[1, 1, 1], [2, 2, 2], [3, 3, 3]]\n",
      "ID of New List: 2031854775360\n"
     ]
    }
   ],
   "source": [
    "old_list = [[1, 1, 1], [2, 2, 2], [3, 3, 3]]\n",
    "# deep copy\n",
    "new_list = copy.deepcopy(old_list)\n",
    "old_list.append([4, 4, 4])\n",
    "\n",
    "print(\"Old list:\", old_list)\n",
    "print('ID of Old List:', id(old_list))\n",
    "\n",
    "print('New List:', new_list)\n",
    "print('ID of New List:', id(new_list))"
   ]
  },
  {
   "cell_type": "code",
   "execution_count": 16,
   "metadata": {},
   "outputs": [
    {
     "name": "stdout",
     "output_type": "stream",
     "text": [
      "Old list: [[1, 1, 1], [2, 'AA', 2], [3, 3, 3]]\n",
      "ID of Old List: 2031854759808\n",
      "New List: [[1, 1, 1], [2, 2, 2], [3, 3, 3]]\n",
      "ID of New List: 2031854802624\n"
     ]
    }
   ],
   "source": [
    "old_list = [[1, 1, 1], [2, 2, 2], [3, 3, 3]]\n",
    "# deep copy\n",
    "new_list = copy.deepcopy(old_list)\n",
    "old_list[1][1] = 'AA'\n",
    "\n",
    "print(\"Old list:\", old_list)\n",
    "print('ID of Old List:', id(old_list))\n",
    "\n",
    "print('New List:', new_list)\n",
    "print('ID of New List:', id(new_list))"
   ]
  },
  {
   "cell_type": "code",
   "execution_count": null,
   "metadata": {},
   "outputs": [],
   "source": []
  }
 ],
 "metadata": {
  "kernelspec": {
   "display_name": "Python 3 (ipykernel)",
   "language": "python",
   "name": "python3"
  },
  "language_info": {
   "codemirror_mode": {
    "name": "ipython",
    "version": 3
   },
   "file_extension": ".py",
   "mimetype": "text/x-python",
   "name": "python",
   "nbconvert_exporter": "python",
   "pygments_lexer": "ipython3",
   "version": "3.8.5"
  },
  "vscode": {
   "interpreter": {
    "hash": "490eb714fd0450875a19d2a5598a802599169bd57e63b9bee0672b4199e385fd"
   }
  }
 },
 "nbformat": 4,
 "nbformat_minor": 4
}
